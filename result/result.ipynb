{
 "cells": [
  {
   "cell_type": "code",
   "execution_count": 11,
   "id": "805190a3",
   "metadata": {},
   "outputs": [],
   "source": [
    "import time \n",
    "import sys\n",
    "from blu import *  \n",
    "# True parameters\n",
    "data=np.load(data_dir+'/catalog/m1m2zxeff_posterior_138_lensed.npz')\n",
    "m1,m2,redshift,xeff = data['m1'],data['m2'],data['redshift'], data['xeff'] \n",
    "del data\n",
    "# posterior samples \n",
    "with open('./posterior/img1_det_m1m2xeff.pkl', 'rb') as f:\n",
    "    img1=dill.load(f)\n",
    "with open('./posterior/img2_det_m1m2xeff.pkl', 'rb') as f:\n",
    "    img2=dill.load(f)\n",
    "# uniform model\n",
    "with open('./pop_prior/uniform_pop_m1m2xeff.pkl', 'rb') as f:\n",
    "    pop_uni=dill.load(f)\n",
    "# HDPGMM models \n",
    "with open('./pop_prior/astro_m1m2chieff.pkl', 'rb') as f:\n",
    "    pop_model=dill.load(f)\n",
    "# benchmark model\n",
    "pop_true = mix_pop('./pop_prior/real_dist.pkl')\n",
    "# power-law model (wrong)\n",
    "pop_power = mix_pop('./pop_prior/PL_pdf.pkl',wide=True)\n",
    "N = 1e4\n",
    "OLU = OddsRatio(gw_pop=pop_model,Nmc=N)\n",
    "OLU_true = OddsRatio(gw_pop=pop_true,Nmc=N)\n",
    "OLU_pl = OddsRatio(gw_pop=pop_power,Nmc=N)\n",
    "OLU_uni = OddsRatio(gw_pop=pop_uni,Nmc=N)"
   ]
  },
  {
   "cell_type": "code",
   "execution_count": 21,
   "id": "f877c32e",
   "metadata": {},
   "outputs": [],
   "source": [
    "# only compute the blu within the reliable region of reconstructed astro population function\n",
    "m1z = m1z=m1*(1+redshift)\n",
    "m1z = m1z[:int(m1z.size/2)]\n",
    "index = np.where(m1z<90)[0]"
   ]
  },
  {
   "cell_type": "code",
   "execution_count": null,
   "id": "18f30f67",
   "metadata": {
    "scrolled": true
   },
   "outputs": [
    {
     "name": "stdout",
     "output_type": "stream",
     "text": [
      "11.284301996231079\n",
      "10.703462839126587\n",
      "10.622402667999268\n",
      "11.037400007247925\n",
      "10.273090124130249\n",
      "10.165321111679077\n",
      "11.0977783203125\n",
      "10.200114727020264\n",
      "10.403053045272827\n",
      "10.530593156814575\n",
      "10.315058946609497\n",
      "9.721719980239868\n",
      "10.456326007843018\n",
      "9.981173038482666\n",
      "9.917980909347534\n",
      "10.744271755218506\n",
      "10.135848999023438\n",
      "10.387354850769043\n",
      "10.593093872070312\n",
      "9.980990886688232\n",
      "10.58449387550354\n",
      "10.824148893356323\n",
      "10.26425290107727\n",
      "11.04597806930542\n"
     ]
    }
   ],
   "source": [
    "blu_uni=[]\n",
    "blu_true=[]\n",
    "blu_hdpgmm=[]\n",
    "blu_pl=[]\n",
    "#blu_obs=[]\n",
    "t0 = time.time()\n",
    "for i in tqdm(index, total = int(index.size), desc = '-th pair'):\n",
    "    blu_true.append(OLU_true.BayesFactor_PEuniform(img1[i],img2[i]))\n",
    "    blu_hdpgmm.append(OLU.BayesFactor_PEuniform(img1[i],img2[i]))\n",
    "    blu_pl.append(OLU_pl.BayesFactor_PEuniform(img1[i],img2[i]))\n",
    "    blu_uni.append(OLU_uni.BayesFactor_PEuniform(img1[i],img2[i]))\n",
    "    if i == index[0]: print(time.time()-t0)\n",
    "    \n",
    "blu_true = np.array(blu_true)\n",
    "blu_hdpgmm = np.array(blu_hdpgmm)\n",
    "blu_pl = np.array(blu_pl)\n",
    "blu_uni = np.array(blu_uni)\n",
    "\n",
    "blu_true = log_blu(blu_true)\n",
    "blu_hdpgmm = log_blu(blu_hdpgmm)\n",
    "blu_pl = log_blu(blu_pl)\n",
    "blu_uni = log_blu(blu_uni)\n"
   ]
  },
  {
   "cell_type": "code",
   "execution_count": null,
   "id": "929282d2",
   "metadata": {},
   "outputs": [],
   "source": [
    "from marginal_plt import *\n",
    "%matplotlib inline\n",
    "\n",
    "xlim=(18,120)\n",
    "ylim=(-2.1,4.3)\n",
    "n = blu_true.shape[0]\n",
    "plotting_two(blu_true[:n], blu_uni[:n],pop_model,\n",
    "             pop_true,pop_power, m1z[:n],math_blu,\n",
    "             real_dist=True,uni_dist=True,xlim=xlim,ylim=ylim)\n",
    "plt.savefig('blu_uni.pdf',bbox_inches = 'tight')\n",
    "#ylim=(0,3.1)\n",
    "plotting_two(blu_true[:n], blu_pl[:n],pop_model,\n",
    "             pop_true,pop_power, m1z[:n],math_blu,\n",
    "             real_dist=True,PL_dist=True,xlim=xlim,ylim=ylim)\n",
    "plt.savefig('blu_pl.pdf',bbox_inches = 'tight')\n",
    "#ylim=(0.5,2.26)\n",
    "#ylim=(0,5.1)\n",
    "plotting_two(blu_true[:n], blu_hdpgmm[:n],pop_model,\n",
    "             pop_true,pop_true, m1z[:n],math_blu,\n",
    "             real_dist=True,HDPGMM_model=True,xlim=xlim,ylim=ylim)\n",
    "plt.savefig('blu_dpgmm.pdf',bbox_inches = 'tight')"
   ]
  }
 ],
 "metadata": {
  "kernelspec": {
   "display_name": "Python 3 (ipykernel)",
   "language": "python",
   "name": "python3"
  },
  "language_info": {
   "codemirror_mode": {
    "name": "ipython",
    "version": 3
   },
   "file_extension": ".py",
   "mimetype": "text/x-python",
   "name": "python",
   "nbconvert_exporter": "python",
   "pygments_lexer": "ipython3",
   "version": "3.8.13"
  }
 },
 "nbformat": 4,
 "nbformat_minor": 5
}
