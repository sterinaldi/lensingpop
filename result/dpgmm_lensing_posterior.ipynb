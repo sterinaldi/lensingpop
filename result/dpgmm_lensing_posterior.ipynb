{
 "cells": [
  {
   "cell_type": "code",
   "execution_count": 1,
   "id": "3623bd84",
   "metadata": {},
   "outputs": [],
   "source": [
    "import numpy as np \n",
    "import matplotlib.pyplot as plt \n",
    "import dill \n",
    "import time \n",
    "from figaro.mixture import DPGMM \n",
    "#data= np.load('/Users/damon/Desktop/lensingpop/Mock_Data/catalog/m1m2zxeffxp_posterior_PPD_afterSelection_unlensed3303.npz')\n",
    "data= np.load('/Users/damon/Desktop/lensingpop/Mock_Data/catalog/m1m2zxeff_posterior_138_lensed.npz')\n",
    "m1 = data['m1']\n",
    "m2 = data['m2']\n",
    "z = data['redshift']\n",
    "\n",
    "m1p = data['m1_posterior']\n",
    "m2p = data['m2_posterior']\n",
    "zp = data['z_posterior']\n",
    "\n",
    "xeff=data['xeff']\n",
    "xeffp=data['xeff_posterior']"
   ]
  },
  {
   "cell_type": "markdown",
   "id": "ee451983",
   "metadata": {},
   "source": [
    "# Uniform prior"
   ]
  },
  {
   "cell_type": "code",
   "execution_count": 2,
   "id": "d2a0980b",
   "metadata": {},
   "outputs": [],
   "source": [
    "class uni_pop():\n",
    "    def __init__(self,bounds):\n",
    "        self.bounds = bounds\n",
    "    def __call__(self, x):\n",
    "        return self.pdf(x)\n",
    "    \n",
    "    def rvs(self, x):\n",
    "        return 1\n",
    " \n",
    "    def pdf(self, x):\n",
    "        V = 0.5 * np.prod(np.diff(bounds)) \n",
    "        return 1 / V\n",
    "    \n",
    "bounds = [[0,240],[0,240],[-1,1]]\n",
    "pop_uni = uni_pop(bounds)\n",
    "with open('./uniform_pop_m1m2xeff.pkl', 'wb') as f:\n",
    "    dill.dump(pop_uni,f)"
   ]
  },
  {
   "cell_type": "markdown",
   "id": "9e3f7385",
   "metadata": {},
   "source": [
    "# Posterior samples:"
   ]
  },
  {
   "cell_type": "code",
   "execution_count": 15,
   "id": "7ed4125a",
   "metadata": {
    "scrolled": true
   },
   "outputs": [
    {
     "name": "stdout",
     "output_type": "stream",
     "text": [
      "0 -th event\n",
      "30 -th event\n",
      "60 -th event\n",
      "90 -th event\n",
      "120 -th event\n",
      "69\n"
     ]
    }
   ],
   "source": [
    "from figaro.mixture import DPGMM \n",
    "model = []\n",
    "bounds = [[0,240],[0,240],[-1,1]]\n",
    "mix = DPGMM(bounds)\n",
    "for i in range(m1p.shape[0]):\n",
    "    if i %30==0: print(i,'-th event')\n",
    "    model.append(mix.density_from_samples(np.array([m1p[i],m2p[i],xeffp[i]]).T))\n",
    "\n",
    "N_events = int(m1.size/2)\n",
    "print(N_events)\n",
    "l1_model = model[:N_events]\n",
    "l2_model = model[N_events:]\n",
    "\n",
    "\n",
    "with open('./img1_det_m1m2xeff.pkl', 'wb') as f:\n",
    "    dill.dump(l1_model, f)\n",
    "with open('./img2_det_m1m2xeff.pkl', 'wb') as f:\n",
    "    dill.dump(l2_model, f)"
   ]
  },
  {
   "cell_type": "code",
   "execution_count": null,
   "id": "4125137a",
   "metadata": {},
   "outputs": [],
   "source": []
  }
 ],
 "metadata": {
  "kernelspec": {
   "display_name": "Python 3 (ipykernel)",
   "language": "python",
   "name": "python3"
  },
  "language_info": {
   "codemirror_mode": {
    "name": "ipython",
    "version": 3
   },
   "file_extension": ".py",
   "mimetype": "text/x-python",
   "name": "python",
   "nbconvert_exporter": "python",
   "pygments_lexer": "ipython3",
   "version": "3.8.13"
  }
 },
 "nbformat": 4,
 "nbformat_minor": 5
}
