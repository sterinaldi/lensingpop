{
 "cells": [
  {
   "cell_type": "code",
   "execution_count": 1,
   "id": "2fe67549",
   "metadata": {},
   "outputs": [
    {
     "name": "stdout",
     "output_type": "stream",
     "text": [
      "/Users/damon/Desktop/lensingpop\n"
     ]
    }
   ],
   "source": [
    "import numpy as np \n",
    "import os \n",
    "cdir= os.getcwd()\n",
    "print(cdir)"
   ]
  },
  {
   "cell_type": "markdown",
   "id": "b1a59102",
   "metadata": {},
   "source": [
    " <font size=\"6\"> Motivation:<br />\n",
    " <font size=\"4\"> Given a pair of GW data, can we classify whether they are gravitationally lensed. <br />\n",
    " <font size=\"4\"> Approach: Parameter overlap <br />\n",
    " <font size=\"4\"> But we use data-driven prior instead of parametric prior from assumption <br />\n",
    " <font size=\"5\"> Things to be prepared: <br />\n",
    " <font size=\"5\"> Catalog, <br />\n",
    " <font size=\"5\"> posterior samples, <br />\n",
    " <font size=\"5\"> different population priors, <br />\n",
    " <font size=\"5\"> Bayes factor computation <br />"
   ]
  },
  {
   "cell_type": "markdown",
   "id": "684edd4e",
   "metadata": {},
   "source": [
    " <font size=\"6\"> Prepare catalog: <br /> \n",
    " <font size=\"5\"> Mass distribution: Power-law + peak + delta peak (50,25) <br />\n",
    " <font size=\"5\"> Redshift distribution $\\propto \\frac{dV_c}{dz}$ <br />\n",
    " <font size=\"5\"> Script to generate the catalog:  <br />\n",
    " N = number of events in the intrinsic catalog "
   ]
  },
  {
   "cell_type": "code",
   "execution_count": 2,
   "id": "1d79e471",
   "metadata": {},
   "outputs": [
    {
     "name": "stderr",
     "output_type": "stream",
     "text": [
      "/opt/homebrew/Caskroom/miniforge/base/envs/gw-2/lib/python3.8/site-packages/tqdm/auto.py:22: TqdmWarning: IProgress not found. Please update jupyter and ipywidgets. See https://ipywidgets.readthedocs.io/en/stable/user_install.html\n",
      "  from .autonotebook import tqdm as notebook_tqdm\n"
     ]
    },
    {
     "name": "stdout",
     "output_type": "stream",
     "text": [
      "/Users/damon/Desktop/lensingpop\n",
      "Intrinsic catalog file saved at /Users/damon/Desktop/lensingpop/Mock_Data/PowerlawplusPeakplusDelta3000Samples.npz\n",
      "Calculation time: 19.78 s\n",
      "Number of envets in the catalog =  3000 after selection =  (6,)\n",
      "Observed catalog file saved at /Users/damon/Desktop/lensingpop/Mock_Data/PowerlawplusPeakplusDelta3000Samples_afterSelection.npz\n",
      "Calculation time for pdet: 0.01 s\n"
     ]
    }
   ],
   "source": [
    "N = 3000\n",
    "%run -i  './Mock_Data/mock_data_generation/catalog.py' --N 3000\n",
    "# pass N = 3000 for demonstration, save time"
   ]
  },
  {
   "cell_type": "markdown",
   "id": "fb6d1373",
   "metadata": {},
   "source": [
    "<font size=\"5\"> Data in the catalog files <br />\n",
    "Intrinsic catalog:"
   ]
  },
  {
   "cell_type": "code",
   "execution_count": 3,
   "id": "1558db70",
   "metadata": {},
   "outputs": [
    {
     "data": {
      "text/plain": [
       "['m1',\n",
       " 'm2',\n",
       " 'redshift',\n",
       " 'snr',\n",
       " 'inclinationValue',\n",
       " 'polarisationValue',\n",
       " 'rightAscensionValue',\n",
       " 'declinationValue',\n",
       " 'GPStimeValue']"
      ]
     },
     "execution_count": 3,
     "metadata": {},
     "output_type": "execute_result"
    }
   ],
   "source": [
    "data = np.load('./Mock_Data/PowerlawplusPeakplusDelta3000Samples.npz')\n",
    "list(data.keys())"
   ]
  },
  {
   "cell_type": "markdown",
   "id": "0b323734",
   "metadata": {},
   "source": [
    "<font size=\"5\"> Observed catalog (after applying the selection effect):"
   ]
  },
  {
   "cell_type": "code",
   "execution_count": 4,
   "id": "bc89e597",
   "metadata": {},
   "outputs": [
    {
     "data": {
      "text/plain": [
       "['m1',\n",
       " 'm2',\n",
       " 'redshift',\n",
       " 'snr',\n",
       " 'inclinationValue',\n",
       " 'polarisationValue',\n",
       " 'rightAscensionValue',\n",
       " 'declinationValue',\n",
       " 'GPStimeValue']"
      ]
     },
     "execution_count": 4,
     "metadata": {},
     "output_type": "execute_result"
    }
   ],
   "source": [
    "data = np.load('./Mock_Data/PowerlawplusPeakplusDelta3000Samples_afterSelection.npz')\n",
    "list(data.keys())"
   ]
  },
  {
   "cell_type": "markdown",
   "id": "d91e9767",
   "metadata": {},
   "source": [
    "<font size=\"5\"> Now, we have a catalog, then we generate the measurement uncertainty for each event <br />\n",
    "<font size=\"5\"> We work on detector-mass frace redshifted chirp mass, and assume the noise to be Gaussian noise: <br />\n",
    "<font size=\"5\"> $\\log(\\mathcal{M}_z^{\\mathrm{obs}}) =  \\log(\\mathcal{M}_z) + \\mathcal{N}(0,\\sigma_\\mathcal{M} / \\rho_{\\mathrm{obs}}), \\sigma_\\mathcal{M}=0.08\\rho_{\\mathrm{thresh}}$ <br /> \n",
    "<font size=\"5\"> Then, we solve $m_{1,z}^{\\mathrm{obs}},m_{2,z}^{\\mathrm{obs}} $ from $\\mathcal{M}_z^{\\mathrm{obs}}$. <br /> \n",
    "<font size=\"5\"> We know $d_{\\mathrm{L}}$ is $\\propto \\frac{1}{\\rho}$, so we generate observed luminosity distance by the following: <br /> \n",
    "$d_{\\mathrm{L}}^{\\mathrm{obs}} = d_{\\mathrm{L}} \\times \\frac{\\rho(m_1^\\mathrm{obs},m_2^{\\mathrm{obs}},z)}{\\rho_(m_1,m_2,z)}$ <br /> \n",
    "<font size=\"5\"> Script: <br /> \n",
    "N = number of events of the catalog files that you are going to read <br /> \n",
    "Npos = number of posterior samples for each event"
   ]
  },
  {
   "cell_type": "code",
   "execution_count": 5,
   "id": "a12eb8cf",
   "metadata": {
    "scrolled": true,
    "tags": []
   },
   "outputs": [
    {
     "name": "stdout",
     "output_type": "stream",
     "text": [
      "generating posterior...\n",
      "1 -th event\n",
      "2 -th event\n",
      "3 -th event\n",
      "4 -th event\n",
      "5 -th event\n",
      "6 -th event\n",
      "posterior data is saved at /Users/damon/Desktop/lensingpop/Mock_Data/m1m2posterior_PPD_afterSelection3000.npz\n"
     ]
    }
   ],
   "source": [
    "%run -i './Mock_Data/mock_data_generation/gen_posterior.py' --N 3000 --Npos 1000"
   ]
  },
  {
   "cell_type": "markdown",
   "id": "f31da322",
   "metadata": {},
   "source": [
    "<font size=\"5\"> Posterior data:"
   ]
  },
  {
   "cell_type": "code",
   "execution_count": 6,
   "id": "944eec05",
   "metadata": {},
   "outputs": [
    {
     "data": {
      "text/plain": [
       "['m1', 'm2', 'redshift', 'm1_posterior', 'm2_posterior', 'z_posterior']"
      ]
     },
     "execution_count": 6,
     "metadata": {},
     "output_type": "execute_result"
    }
   ],
   "source": [
    "data = np.load('./Mock_Data/m1m2posterior_PPD_afterSelection3000.npz')\n",
    "list(data.keys())"
   ]
  },
  {
   "cell_type": "markdown",
   "id": "a3dbab5a",
   "metadata": {},
   "source": [
    "<font size=\"5\"> Plotting the posteriors for the first event: "
   ]
  },
  {
   "cell_type": "code",
   "execution_count": 7,
   "id": "270166bb",
   "metadata": {},
   "outputs": [],
   "source": [
    "samples = np.array([data['m1_posterior'][0],data['m2_posterior'][0],data['z_posterior'][0]]).T\n",
    "import matplotlib.pyplot as plt\n",
    "import corner\n",
    "import matplotlib.lines as mlines\n",
    "import matplotlib\n",
    "from matplotlib.ticker import (MultipleLocator, AutoMinorLocator)\n",
    "matplotlib.rcParams['mathtext.fontset'] = 'stix'\n",
    "matplotlib.rcParams['font.family'] = 'STIXGeneral'\n",
    "\n",
    "\n",
    "levels = (0.50,0.90)\n",
    "#d4 = x3\n",
    "\n",
    "fig = corner.corner(samples, color='#000000',\n",
    "                  hist_kwargs = {'lw':2,'density':True},hist2dlw=2,\n",
    "                  plot_density=False,plot_datapoints=False,\n",
    "                  fill_contours=False,levels=levels)\n",
    "for ax in fig.axes:\n",
    "    ax.tick_params(axis='both', which='major', labelsize=20)\n",
    "    ax.xaxis.set_minor_locator(AutoMinorLocator())\n",
    "    ax.yaxis.set_minor_locator(AutoMinorLocator())\n",
    "fig.show()\n",
    "\n"
   ]
  },
  {
   "cell_type": "markdown",
   "id": "1bb77ecc",
   "metadata": {},
   "source": [
    "<font size=\"5\"> Then, we prepare the lensed catalog: <br /> \n",
    "We assume the magnification factor $p(\\mu_1) \\propto \\mu_1^{-3}$, and $\\mu_1 \\sim \\mu_2$\\\n",
    "then the we can compute the effective $d_{\\mathrm{L}}$ by: <br /> \n",
    "       $d_{\\mathrm{L,eff}}  = \\frac{d_{\\mathrm{L}}}{\\mu^{(i)}}$"
   ]
  },
  {
   "cell_type": "markdown",
   "id": "0de42bab",
   "metadata": {},
   "source": [
    "<font size=\"5\"> Then we generate the measurement uncertainty by the following script:\n"
   ]
  },
  {
   "cell_type": "code",
   "execution_count": 8,
   "id": "2725cb70",
   "metadata": {},
   "outputs": [
    {
     "name": "stdout",
     "output_type": "stream",
     "text": [
      "load data from the observed catalog.\n",
      "generating magnification factor mu for image 1/2...\n",
      "calculating snr obs...\n",
      "generating posterior for lensing pair...\n",
      "1 -th pair\n",
      "2 -th pair\n",
      "3 -th pair\n",
      "4 -th pair\n",
      "5 -th pair\n",
      "6 -th pair\n",
      "20.96539616584778\n",
      "The posteriors file for lensed pair is saved at /Users/damon/Desktop/lensingpop/Mock_Data/lensed_posterior3000.npz\n"
     ]
    }
   ],
   "source": [
    "%run -i '/Users/damon/Desktop/lensingpop/Mock_Data/mock_data_generation/lensing_script/lensing_posterior.py' --N 3000 --Npos 1000"
   ]
  },
  {
   "cell_type": "code",
   "execution_count": 9,
   "id": "bb2ade30",
   "metadata": {},
   "outputs": [
    {
     "data": {
      "text/plain": [
       "['m1p1', 'm1p2', 'm2p1', 'm2p2', 'zp1', 'zp2']"
      ]
     },
     "execution_count": 9,
     "metadata": {},
     "output_type": "execute_result"
    }
   ],
   "source": [
    "data = np.load('./Mock_Data/lensed_posterior3000.npz')\n",
    "list(data.keys())"
   ]
  },
  {
   "cell_type": "markdown",
   "id": "cc4dc5bf",
   "metadata": {},
   "source": [
    "<font size=\"5\"> Plotting the posteriors for the first lensing pair: "
   ]
  },
  {
   "cell_type": "code",
   "execution_count": 10,
   "id": "6f8cea47",
   "metadata": {},
   "outputs": [],
   "source": [
    "image1 = np.array([data['m1p1'][0],data['m2p1'][0],data['zp1'][0]]).T\n",
    "image2 = np.array([data['m1p2'][0],data['m2p2'][0],data['zp2'][0]]).T\n",
    "\n",
    "\n",
    "import corner \n",
    "import numpy as np\n",
    "import matplotlib.pyplot as plt\n",
    "import corner\n",
    "import matplotlib.lines as mlines\n",
    "import matplotlib\n",
    "from matplotlib.ticker import (MultipleLocator, AutoMinorLocator)\n",
    "matplotlib.rcParams['mathtext.fontset'] = 'stix'\n",
    "matplotlib.rcParams['font.family'] = 'STIXGeneral'\n",
    "\n",
    "\n",
    "levels = (0.50,0.90)\n",
    "#d4 = x3\n",
    "\n",
    "fig1 = corner.corner(image1, color='#000000',\n",
    "                  hist_kwargs = {'lw':2,'density':True},hist2dlw=2,\n",
    "                  plot_density=False,plot_datapoints=False,\n",
    "                  fill_contours=False,levels=levels)\n",
    "\n",
    "fig = corner.corner(image2, color='#ff7f0e',fig = fig1,\n",
    "                  hist_kwargs = {'lw':2,'density':True},hist2dlw=2,\n",
    "                  plot_density=False,plot_datapoints=False,\n",
    "                  fill_contours=False,levels=levels)\n",
    "\n",
    "\n",
    "\n",
    "for ax in fig.axes:\n",
    "    ax.tick_params(axis='both', which='major', labelsize=20)\n",
    "    ax.xaxis.set_minor_locator(AutoMinorLocator())\n",
    "    ax.yaxis.set_minor_locator(AutoMinorLocator())\n",
    "fig.show()\n",
    "\n",
    "\n"
   ]
  },
  {
   "cell_type": "markdown",
   "id": "330c71f4",
   "metadata": {},
   "source": [
    "<font size=\"6\"> Then we use DPGMM to estimate the event posteriors:"
   ]
  },
  {
   "cell_type": "code",
   "execution_count": 30,
   "id": "50b87dec",
   "metadata": {},
   "outputs": [
    {
     "name": "stdout",
     "output_type": "stream",
     "text": [
      "[[12.66213857843292, 71.2128804426705], [12.66213857843292, 71.2128804426705], [0.13707737510437076, 1.089050669416368]]\n",
      "0\n",
      "1\n",
      "2\n",
      "3\n",
      "4\n",
      "5\n",
      "dpgmm model for image1 is saved at /Users/damon/Desktop/lensingpop/Mock_Data/lensed_data/l1_ps3000.pkl\n",
      "0\n",
      "1\n",
      "2\n",
      "3\n",
      "4\n",
      "5\n",
      "dpgmm model for image2 is saved at /Users/damon/Desktop/lensingpop/Mock_Data/lensed_data/l2_ps3000.pkl\n"
     ]
    }
   ],
   "source": [
    "%run -i './Mock_Data/mock_data_generation/lensing_script/lensed_pair_dpgmm.py' --N 3000"
   ]
  },
  {
   "cell_type": "markdown",
   "id": "6cca35e6",
   "metadata": {},
   "source": [
    "<font size=\"5\"> Compare the data to the samples generated from DPGMM model."
   ]
  },
  {
   "cell_type": "code",
   "execution_count": 31,
   "id": "edbbd01d",
   "metadata": {},
   "outputs": [
    {
     "data": {
      "image/png": "[encoded data removed]",
      "text/plain": [
       "<Figure size 547.2x547.2 with 9 Axes>"
      ]
     },
     "metadata": {
      "needs_background": "light"
     },
     "output_type": "display_data"
    }
   ],
   "source": [
    "\n",
    "data = np.load('./Mock_Data/lensed_posterior3000.npz')\n",
    "image1 = np.array([data['m1p1'][0],data['m2p1'][0],data['zp1'][0]]).T\n",
    "\n",
    "import dill \n",
    "\n",
    "with open(cdir+'/Mock_Data/lensed_data/l1_ps{:.0f}.pkl'.format(N), 'rb') as f:\n",
    "    LensedEvent1_List = dill.load(f)\n",
    "\n",
    "import matplotlib.pyplot as plt\n",
    "import corner\n",
    "import matplotlib.lines as mlines\n",
    "import matplotlib\n",
    "from matplotlib.ticker import (MultipleLocator, AutoMinorLocator)\n",
    "matplotlib.rcParams['mathtext.fontset'] = 'stix'\n",
    "matplotlib.rcParams['font.family'] = 'STIXGeneral'\n",
    "\n",
    "\n",
    "levels = (0.50,0.90)\n",
    "\n",
    "fig1 = corner.corner(image1, color='#000000',\n",
    "                  hist_kwargs = {'lw':2,'density':True},hist2dlw=2,\n",
    "                  plot_density=False,plot_datapoints=False,\n",
    "                  fill_contours=False,levels=levels)\n",
    "\n",
    "fig = corner.corner(LensedEvent1_List[0].rvs(10000), color='#ff7f0e',fig = fig1,\n",
    "                  hist_kwargs = {'lw':2,'density':True},hist2dlw=2,\n",
    "                  plot_density=False,plot_datapoints=False,\n",
    "                  fill_contours=False,levels=levels)\n",
    "\n",
    "\n",
    "\n",
    "for ax in fig.axes:\n",
    "    ax.tick_params(axis='both', which='major', labelsize=20)\n",
    "    ax.xaxis.set_minor_locator(AutoMinorLocator())\n",
    "    ax.yaxis.set_minor_locator(AutoMinorLocator())\n"
   ]
  },
  {
   "cell_type": "markdown",
   "id": "3ea0c4d8",
   "metadata": {},
   "source": [
    "<font size=\"5\"> Population prior:"
   ]
  },
  {
   "cell_type": "code",
   "execution_count": null,
   "id": "e2e3befb",
   "metadata": {},
   "outputs": [],
   "source": []
  },
  {
   "cell_type": "markdown",
   "id": "684a701b",
   "metadata": {},
   "source": [
    "<font size=\"5\"> Finally, we compute the BLU by the following equation,\n",
    "<font size=\"5\"> $\\int \\frac{p(\\theta|d_1)p(\\theta|d_2) p_{\\mathrm{det}}(\\theta)}{p(\\theta)}d\\theta =<\\frac{p(\\theta|d_1) p_{\\mathrm{det}}(\\theta)}{p(\\theta)}>_{p(\\theta|d_2)}$  \n",
    "and using the script: "
   ]
  },
  {
   "cell_type": "code",
   "execution_count": 32,
   "id": "5194ab2e",
   "metadata": {},
   "outputs": [
    {
     "name": "stdout",
     "output_type": "stream",
     "text": [
      "1 -th lensed pair calculating...\n",
      "BLU =  541.8241343514503\n",
      "2 -th lensed pair calculating...\n",
      "BLU =  118.94896289376993\n",
      "3 -th lensed pair calculating...\n",
      "BLU =  2.1901158989519144e-15\n",
      "4 -th lensed pair calculating...\n",
      "BLU =  67.03965478597185\n",
      "5 -th lensed pair calculating...\n",
      "BLU =  886.98049293515\n",
      "6 -th lensed pair calculating...\n",
      "BLU =  10.462775184922904\n",
      "BLU result is saved at /Users/damon/desktop/lensingpop/stronglensingbayesfactor/result_data/true_prior_selection.npz\n"
     ]
    }
   ],
   "source": [
    "%run -i '/Users/damon/Desktop/lensingpop/stronglensingbayesfactor/blu_dpgmm.py' --N 3000 --p_prior ppd"
   ]
  },
  {
   "cell_type": "code",
   "execution_count": null,
   "id": "d3fa8398",
   "metadata": {},
   "outputs": [],
   "source": []
  },
  {
   "cell_type": "code",
   "execution_count": null,
   "id": "7a1c7b31",
   "metadata": {},
   "outputs": [],
   "source": []
  }
 ],
 "metadata": {
  "kernelspec": {
   "display_name": "Python 3 (ipykernel)",
   "language": "python",
   "name": "python3"
  },
  "language_info": {
   "codemirror_mode": {
    "name": "ipython",
    "version": 3
   },
   "file_extension": ".py",
   "mimetype": "text/x-python",
   "name": "python",
   "nbconvert_exporter": "python",
   "pygments_lexer": "ipython3",
   "version": "3.8.13"
  }
 },
 "nbformat": 4,
 "nbformat_minor": 5
}
